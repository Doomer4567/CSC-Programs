{
 "cells": [
  {
   "cell_type": "markdown",
   "metadata": {
    "id": "RI4MAK1hP6Ag"
   },
   "source": [
    "# **Data Encryption Standard (DES)** [Prepared By: Jevin Evans and Muhammad Ismail]\n",
    "---\n",
    "\n",
    "The **Data Encryption Standard (DES)** is a symmetric encryption scheme that uses the Feistel cipher scheme and four basic operations: exclusive-OR, permutation, substitution, and circular shift.\n",
    "\n",
    "The following is an in-depth look at the process and features of **DES** to give you a better understanding of the algorithm.\n",
    "\n",
    "##**Instructions** \n",
    "Run in order by hitting the play button next to each code box, or in the <u>menu bar</u>, select **Runtime->Run All** to run the whole lab."
   ]
  },
  {
   "cell_type": "code",
   "execution_count": 2,
   "metadata": {
    "cellView": "form",
    "colab": {
     "base_uri": "https://localhost:8080/"
    },
    "executionInfo": {
     "elapsed": 128,
     "status": "ok",
     "timestamp": 1630086485383,
     "user": {
      "displayName": "Muhammad Ismail",
      "photoUrl": "",
      "userId": "08030624987779284067"
     },
     "user_tz": 300
    },
    "id": "sUJzt1BwVVq6",
    "outputId": "eb4a5a0e-e716-4c74-eacb-16b0cf09d4a3"
   },
   "outputs": [
    {
     "name": "stdout",
     "output_type": "stream",
     "text": [
      "Plaintext Message: DES is strong but not complicated\n",
      "Encryption Key: CSC4575/5575\n"
     ]
    }
   ],
   "source": [
    "#@title Example for DES\n",
    "#@markdown For this lab, use the given plaintext and key or choose your own to see how it will be encrypted and decrypted in DES.\n",
    "\n",
    "PLAINTEXT = 'DES is strong but not complicated' #@param {type: \"string\"}\n",
    "KEY = 'CSC4575/5575'  #@param {type: \"string\"}\n",
    "#@markdown ---\n",
    "\n",
    "print(f\"Plaintext Message: {PLAINTEXT}\\nEncryption Key: {KEY}\")"
   ]
  },
  {
   "cell_type": "markdown",
   "metadata": {
    "id": "kdf4KT-831zH"
   },
   "source": [
    "## Definitions\n",
    "\n",
    "Some things to know:\n",
    "- A **permutation** is a process of shuffling or rearranging data. In DES, permutation is used to shuffle bits given a specific order."
   ]
  },
  {
   "cell_type": "code",
   "execution_count": 3,
   "metadata": {
    "colab": {
     "base_uri": "https://localhost:8080/"
    },
    "executionInfo": {
     "elapsed": 10,
     "status": "ok",
     "timestamp": 1630086485569,
     "user": {
      "displayName": "Muhammad Ismail",
      "photoUrl": "",
      "userId": "08030624987779284067"
     },
     "user_tz": 300
    },
    "id": "Dz0X8USM304F",
    "outputId": "b0505960-a484-41ef-bdd3-b9cfe436593a"
   },
   "outputs": [
    {
     "name": "stdout",
     "output_type": "stream",
     "text": [
      "Original: 0abcdef\n",
      "Pemutation Order: [1, 5, 6, 3, 7, 2, 4]\n",
      "Permutated: 0debfac\n"
     ]
    }
   ],
   "source": [
    "def permute(var:str, order:tuple):\n",
    "  try:\n",
    "    '''If var is in binary returns binary'''\n",
    "    return \"\".join([var[x-1] for x in order])\n",
    "  except:\n",
    "    '''If var is in hex returns hex'''\n",
    "    var = bin(int(var,16))[2:]\n",
    "    return hex(int(\"\".join([var[x-1] for x in order]),2))[2:]\n",
    "\n",
    "# Example\n",
    "ex1 = \"0abcdef\"\n",
    "exOrder = [1,5,6,3,7,2,4]\n",
    "\n",
    "print(f\"Original: {ex1}\")\n",
    "print(f\"Pemutation Order: {exOrder}\")\n",
    "print(f\"Permutated: {permute(ex1, exOrder)}\")"
   ]
  },
  {
   "cell_type": "markdown",
   "metadata": {
    "id": "lD2RRwuw9vJK"
   },
   "source": [
    "# Key Schedule Generation\n",
    "---\n",
    "DES has a key length of 64-bits. The key is first permuted to remove every 8th bit, which can be used as parity bits or discarded, resulting in a 56-bit key. The 56-bit key goes through a **Key Schedule Generation** that produces 16 48-bit subkeys for encryption and decryption. \n"
   ]
  },
  {
   "cell_type": "markdown",
   "metadata": {
    "id": "8xah-afpBj89"
   },
   "source": [
    "## Validation\n",
    "Before the subkey generation process can fully start, the keys must be validated to the 64-bit size. Users can supply smaller or greater keys than the required size, which requires a method to fit the key to the correct size. In this example, the key is in hex. When the key is smaller than the required size, '0' bits are appended to the end. When the key is too large, the sha256 hash digest is used, and the first 64-bits are kept. "
   ]
  },
  {
   "cell_type": "code",
   "execution_count": 4,
   "metadata": {
    "colab": {
     "base_uri": "https://localhost:8080/"
    },
    "executionInfo": {
     "elapsed": 7,
     "status": "ok",
     "timestamp": 1630086485570,
     "user": {
      "displayName": "Muhammad Ismail",
      "photoUrl": "",
      "userId": "08030624987779284067"
     },
     "user_tz": 300
    },
    "id": "IpNEn9RYDPnt",
    "outputId": "43a29e4c-279c-4ae5-f83c-829f8498c097"
   },
   "outputs": [
    {
     "name": "stdout",
     "output_type": "stream",
     "text": [
      "Original Key:  CSC4575/5575\n",
      "Validated Key (Hex): da458ae1accdb686\n",
      "Validated Key (Bin): 1101101001000101100010101110000110101100110011011011011010000110\n"
     ]
    }
   ],
   "source": [
    "from hashlib import sha256\n",
    "\n",
    "def validateKey(key:str):\n",
    "  try:\n",
    "    ''' If the key is already in hex '''\n",
    "    new_key = hex(int(key, 16))[2:18]\n",
    "    while len(new_key) != 16:\n",
    "      new_key += '0'\n",
    "    return new_key\n",
    "  except ValueError:\n",
    "    ''' If key in ASCII '''\n",
    "    return sha256(key.encode()).hexdigest()[0:16]\n",
    "\n",
    "print(f\"Original Key:  {KEY}\\nValidated Key (Hex): {validateKey(KEY)}\\nValidated Key (Bin): {bin(int(validateKey(KEY),16))[2:]}\")"
   ]
  },
  {
   "cell_type": "markdown",
   "metadata": {
    "id": "118iDduYE8h0"
   },
   "source": [
    "## Subkey Generation\n",
    "After the key is validated, the subkey generation can begin. The first thing that is done is a permutation using **Permutated Choice 1** on the key. This permutation drops every 8th bit, which can be used for parity or discarded. This drop of bits turns the 64-bit key into a 56-bit key."
   ]
  },
  {
   "cell_type": "code",
   "execution_count": 5,
   "metadata": {
    "executionInfo": {
     "elapsed": 7,
     "status": "ok",
     "timestamp": 1630086485571,
     "user": {
      "displayName": "Muhammad Ismail",
      "photoUrl": "",
      "userId": "08030624987779284067"
     },
     "user_tz": 300
    },
    "id": "s-7H1P0YJhHN"
   },
   "outputs": [],
   "source": [
    "# Permutated Choice 1 - Permutation used first on Key (56-bit key)\n",
    "pc1Order = (57, 49, 41, 33, 25, 17,  9, \n",
    "             1, 58, 50, 42, 34, 26, 18, \n",
    "            10,  2, 59, 51, 43, 35, 27, \n",
    "            19, 11,  3, 60, 52, 44, 36,\n",
    "            63, 55, 47, 39, 31, 23, 15,\n",
    "             7, 62, 54, 46, 38, 30, 22,\n",
    "            14,  6, 61, 53, 45, 37, 29,\n",
    "            21, 13,  5, 28, 20, 12,  4)"
   ]
  },
  {
   "cell_type": "markdown",
   "metadata": {
    "id": "ebj3YT6Bwdz4"
   },
   "source": [
    "Using the 56-bit key, we will generate 16 48-bit subkeys. The 56-bit key is split into left and right blocks of 28-bits. For 16 rounds, these two blocks are:\n",
    "1. **Circular Left Shifted** based on the **Shift Round Schedule**\n",
    "1. Concatenated left+right\n",
    "1. Permutated using the **Permutation Choice 2** (**pc2Order**), turning the 56-bit key to 48-bits\n",
    "1. Added to the list of subkeys\n",
    "1. The process is repeated using the shift halves."
   ]
  },
  {
   "cell_type": "code",
   "execution_count": 6,
   "metadata": {
    "executionInfo": {
     "elapsed": 7,
     "status": "ok",
     "timestamp": 1630086485572,
     "user": {
      "displayName": "Muhammad Ismail",
      "photoUrl": "",
      "userId": "08030624987779284067"
     },
     "user_tz": 300
    },
    "id": "J7AE8hiRK1Dr"
   },
   "outputs": [],
   "source": [
    "# Permutated Choice 2 - Permutation used for Subkeys (48-bit keys)\n",
    "pc2Order =  (14, 17, 11, 24,  1,  5,\n",
    "              3, 28, 15,  6, 21, 10,\n",
    "             23, 19, 12,  4, 26,  8,\n",
    "             16,  7, 27, 20, 13,  2,\n",
    "             41, 52, 31, 37, 47, 55,\n",
    "             30, 40, 51, 45, 33, 48,\n",
    "             44, 49, 39, 56, 34, 53, \n",
    "             46, 42, 50, 36, 29, 32)\n",
    "\n",
    "# Order used to Left Circular Shift the Subkeys in key generation\n",
    "ShiftRounds = (1,1,2,2,2,2,2,2,1,2,2,2,2,2,2,1)\n",
    "\n",
    "def circularLeftShift(var:str, shift:int):\n",
    "  return var[shift:]+var[0:shift]"
   ]
  },
  {
   "cell_type": "markdown",
   "metadata": {
    "id": "dWtcPI6hLd-5"
   },
   "source": [
    "Putting all these steps together, the following shows the **Key Schedule Generation** for the previously supplied key:"
   ]
  },
  {
   "cell_type": "code",
   "execution_count": 7,
   "metadata": {
    "colab": {
     "base_uri": "https://localhost:8080/"
    },
    "executionInfo": {
     "elapsed": 6,
     "status": "ok",
     "timestamp": 1630086485669,
     "user": {
      "displayName": "Muhammad Ismail",
      "photoUrl": "",
      "userId": "08030624987779284067"
     },
     "user_tz": 300
    },
    "id": "fYPmZUB0LdkK",
    "outputId": "b896b0e5-0661-4ef7-c574-865fa0301b33"
   },
   "outputs": [
    {
     "name": "stdout",
     "output_type": "stream",
     "text": [
      "Original Key:  CSC4575/5575\n",
      "Validated Key (Hex): da458ae1accdb686\n",
      "Validated Key (Bin): 1101101001000101100010101110000110101100110011011011011010000110\n",
      "\n",
      "Subkeys (48-bits)\n",
      "------------------\n",
      "Round  1 Subkey: 110011111001011100010101000111001010011100110110\n",
      "Round  2 Subkey: 101110110100010100101011100101000101000110101101\n",
      "Round  3 Subkey: 111010010000001110111001010000100011101011100101\n",
      "Round  4 Subkey: 100101011001101010011101111100101010100110111001\n",
      "Round  5 Subkey: 000101110011101011010010001000110001111100011011\n",
      "Round  6 Subkey: 001111100111110011100100010111110011000100110010\n",
      "Round  7 Subkey: 110110100110010101001100011001010100100101101100\n",
      "Round  8 Subkey: 010010001100011100111101010000001011100011011110\n",
      "Round  9 Subkey: 111111111110010010100000110110001010010101011001\n",
      "Round 10 Subkey: 110110101000011110101010101010111111011000001000\n",
      "Round 11 Subkey: 111110001001001000011111011110000111011100100010\n",
      "Round 12 Subkey: 001001011001101001001110101111000100100000101110\n",
      "Round 13 Subkey: 001000100111100011110110110001000111101011010010\n",
      "Round 14 Subkey: 101111000110110101110000101101011010001001111001\n",
      "Round 15 Subkey: 110001100110011100111001101100111001111001000010\n",
      "Round 16 Subkey: 001011101110000111100111010110110001001110001110\n"
     ]
    }
   ],
   "source": [
    "def keyScheduleGeneration(key:str):\n",
    "  # Validate Key\n",
    "  key = validateKey(key)\n",
    "\n",
    "  # Permute with Permutation Choice 1 \n",
    "  key = (bin(int('1'+key,16))[3:]).zfill(4) # Converts Hex to Bin\n",
    "  key = permute(key, pc1Order)\n",
    "\n",
    "  #Split Keys into 28-bit halves\n",
    "  LK = key[:28]\n",
    "  RK = key[28:]\n",
    "\n",
    "  # Create Subkey List\n",
    "  subKeys = list()\n",
    "\n",
    "  # Generate 16 subkeys for each round of DES\n",
    "  for shift in ShiftRounds:\n",
    "    # Left Circular Shift key halves\n",
    "    LK = circularLeftShift(LK, shift)\n",
    "    RK = circularLeftShift(RK, shift)\n",
    "\n",
    "    # Concatentate subkey and permutate using the Permutated Choice 2\n",
    "    newSubKey = permute(LK+RK, pc2Order)\n",
    "    subKeys.append(newSubKey)\n",
    "\n",
    "  return subKeys\n",
    "\n",
    "# Example of Sub Keys\n",
    "print(f\"Original Key:  {KEY}\\nValidated Key (Hex): {validateKey(KEY)}\\nValidated Key (Bin): {bin(int(validateKey(KEY),16))[2:]}\")\n",
    "print(f\"\\nSubkeys (48-bits)\\n------------------\")\n",
    "for rnd, tempKey in enumerate(keyScheduleGeneration(KEY), start=1):\n",
    "  print(f\"Round {rnd:2d} Subkey: {tempKey}\")"
   ]
  },
  {
   "cell_type": "markdown",
   "metadata": {
    "id": "okE_DL5XxCxp"
   },
   "source": [
    "# 64 Bit Blocks\n",
    "---\n",
    "In DES, plaintext messages are encrypted in blocks of size 64-bits. Messages are usually more significant and must be divided into many blocks. DES will convert the ASCII message into binary blocks and pad the last block with zeros if needed. Once the blocks are created, each one will go through the encryption/decryption process."
   ]
  },
  {
   "cell_type": "code",
   "execution_count": 8,
   "metadata": {
    "colab": {
     "base_uri": "https://localhost:8080/"
    },
    "executionInfo": {
     "elapsed": 5,
     "status": "ok",
     "timestamp": 1630086485670,
     "user": {
      "displayName": "Muhammad Ismail",
      "photoUrl": "",
      "userId": "08030624987779284067"
     },
     "user_tz": 300
    },
    "id": "vck77ryAzGP2",
    "outputId": "e6551ef1-0357-4e48-9450-c65296a69582"
   },
   "outputs": [
    {
     "name": "stdout",
     "output_type": "stream",
     "text": [
      "Block 1 (64-bit): DES is s\t0100010001000101010100110010000001101001011100110010000001110011\n",
      "Block 2 (64-bit): trong bu\t0111010001110010011011110110111001100111001000000110001001110101\n",
      "Block 3 (64-bit): t not co\t0111010000100000011011100110111101110100001000000110001101101111\n",
      "Block 4 (64-bit): mplicate\t0110110101110000011011000110100101100011011000010111010001100101\n",
      "Block 5 (64-bit): d\u0000\u0000\u0000\u0000\u0000\u0000\u0000\t0110010000000000000000000000000000000000000000000000000000000000\n"
     ]
    }
   ],
   "source": [
    "from math import ceil\n",
    "\n",
    "# Converts ASCII to Binary\n",
    "def ascii2bin(var):\n",
    "  return \"\".join([bin(ord(x))[2:].zfill(8) for x in var])\n",
    "\n",
    "# Converts Binary to ASCII\n",
    "def bin2ascii(var):\n",
    "  var = [var[i:i+8] for i in range(0, len(var), 8)]\n",
    "  return ''.join([chr(int(char,2)) for char in var])\n",
    "\n",
    "def create64Blocks(plaintext):\n",
    "  # Convert ASCII string to Binary string\n",
    "  plaintext = ascii2bin(plaintext)\n",
    "  blocks = list()\n",
    "\n",
    "  # Add Padding if needed\n",
    "  if len(plaintext) % 64 != 0:\n",
    "    plaintext += '0'*(64 - len(plaintext) % 64)\n",
    "    \n",
    "  # Determine the total number of blocks\n",
    "  num_of_blocks = ceil(len(plaintext)/64)\n",
    "\n",
    "  # Splits the plaintext into 64-bit blocks\n",
    "  for x in range(num_of_blocks):\n",
    "    block = \"\"\n",
    "    for y in range(64):\n",
    "      block += plaintext[x*64+y]\n",
    "    blocks.append(block)\n",
    "  \n",
    "  return blocks\n",
    "\n",
    "testBlocks = create64Blocks(PLAINTEXT)\n",
    "for index, block in enumerate(testBlocks, start=1):\n",
    "  print(f\"Block {index} ({len(block)}-bit): {bin2ascii(block)}\\t{block}\")"
   ]
  },
  {
   "cell_type": "markdown",
   "metadata": {
    "id": "4F5CMDP__OJB"
   },
   "source": [
    "# Feistel Function\n",
    "---\n",
    "The **Feistel function** is a process that performs four operations on a 32-bit block during a DES round. In order, these operations are:\n",
    "1. **Expansion**\n",
    "1. **XOR with key**\n",
    "1. **Substitution with Sbox**\n",
    "1. **Permutation**\n",
    "\n",
    "The Feistel function is responsible for adding the subkeys to the blocks during encryption and decryption. The following explains in detail each step.\n",
    "\n",
    "\n"
   ]
  },
  {
   "cell_type": "markdown",
   "metadata": {
    "id": "rCSbY_3TJ3x6"
   },
   "source": [
    "## Expansion\n",
    "**Expansion** uses the **Data Expansion** to expand the 32-bit block into a 48-bit block. Expansion is needed so that the key and block with be the same size."
   ]
  },
  {
   "cell_type": "code",
   "execution_count": 9,
   "metadata": {
    "cellView": "code",
    "colab": {
     "base_uri": "https://localhost:8080/"
    },
    "executionInfo": {
     "elapsed": 7,
     "status": "ok",
     "timestamp": 1630086485673,
     "user": {
      "displayName": "Muhammad Ismail",
      "photoUrl": "",
      "userId": "08030624987779284067"
     },
     "user_tz": 300
    },
    "id": "AmsknzyE5Lrp",
    "outputId": "e8bbfdae-29a6-4984-9aa6-ae890f0222c9"
   },
   "outputs": [
    {
     "name": "stdout",
     "output_type": "stream",
     "text": [
      "Left Half of Block 1: 01000100010001010101001100100000 32 bits\n",
      "Expanded Left Half of Block 1 001000001000001000001010101010100110100100000000 48 bits\n"
     ]
    }
   ],
   "source": [
    "# Order used to expand the bits from 32 to 48\n",
    "DataExpansion = (32,  1,  2,  3,  4,  5, \n",
    "                  4,  5,  6,  7,  8,  9, \n",
    "                  8,  9, 10, 11, 12, 13, \n",
    "                 12, 13, 14, 15, 16, 17, \n",
    "                 16, 17, 18, 19, 20, 21, \n",
    "                 20, 21, 22, 23, 24, 25, \n",
    "                 24, 25, 26, 27, 28, 29, \n",
    "                 28, 29, 30, 31, 32,  1)\n",
    "\n",
    "\n",
    "print(\"Left Half of Block 1:\", testBlocks[0][:32], len(testBlocks[0][:32]),\"bits\")\n",
    "\n",
    "# Expansion of the Block\n",
    "eBlock = permute(testBlocks[0][:32], DataExpansion)\n",
    "print(\"Expanded Left Half of Block 1\", eBlock, len(eBlock), \"bits\")"
   ]
  },
  {
   "cell_type": "markdown",
   "metadata": {
    "id": "93zDe013_lc7"
   },
   "source": [
    "## XOR with Key\n",
    "The block has been expanded to 48-bits, and next is **XOR**'d with the subkey for the coinciding round key."
   ]
  },
  {
   "cell_type": "code",
   "execution_count": 10,
   "metadata": {
    "colab": {
     "base_uri": "https://localhost:8080/"
    },
    "executionInfo": {
     "elapsed": 211,
     "status": "ok",
     "timestamp": 1630086485877,
     "user": {
      "displayName": "Muhammad Ismail",
      "photoUrl": "",
      "userId": "08030624987779284067"
     },
     "user_tz": 300
    },
    "id": "GrsT0qGc1MO7",
    "outputId": "dc102d32-51cc-492a-8925-4d5669e0f4b2"
   },
   "outputs": [
    {
     "name": "stdout",
     "output_type": "stream",
     "text": [
      "First SubKey:\t110011111001011100010101000111001010011100110110\n",
      "Expanded Block: 001000001000001000001010101010100110100100000000\n",
      "\t\t------------------------------------------------\n",
      "XOR Result:\t111011110001010100011111101101101100111000110110\n"
     ]
    }
   ],
   "source": [
    "# XOR's two int numbers and pads front zeros\n",
    "def XOR(var1:str, var2:str, zeros:int):\n",
    "  return bin((int(var1, 2)^int(var2,2)))[2:].zfill(zeros)\n",
    "\n",
    "# XOR Example\n",
    "firstSubKey = keyScheduleGeneration(KEY)[0]\n",
    "print(f\"First SubKey:\\t{firstSubKey}\\nExpanded Block: {eBlock}\")\n",
    "print(\"\\t\\t\"+\"-\"*48)\n",
    "xorTemp = XOR(eBlock,firstSubKey, 48)\n",
    "print(f\"XOR Result:\\t{xorTemp}\")"
   ]
  },
  {
   "cell_type": "markdown",
   "metadata": {
    "id": "frsGc9hG_q1i"
   },
   "source": [
    "## Substitution w/ Sboxs\n",
    "\n",
    "**Substitution** in **DES** uses secret boxes (s-boxes) to replace values in the current block with others, which generates confusion, turning the 48-bit output back to 32-bits. \n",
    "\n",
    "The 48-bit block can be divided into eight 6-bit chunks. A corresponding s-box matrix (4x16) uses the chunk to pick the replacement value for each chunk."
   ]
  },
  {
   "cell_type": "code",
   "execution_count": 11,
   "metadata": {
    "executionInfo": {
     "elapsed": 21,
     "status": "ok",
     "timestamp": 1630086485879,
     "user": {
      "displayName": "Muhammad Ismail",
      "photoUrl": "",
      "userId": "08030624987779284067"
     },
     "user_tz": 300
    },
    "id": "zzvGDrkqqul2"
   },
   "outputs": [],
   "source": [
    "# Secret Box 1 - 8 for Feistel Function\n",
    "S1 = (14,  4, 13, 1,  2, 15, 11,  8,  3, 10,  6, 12,  5,  9, 0,  7, \n",
    "       0, 15,  7, 4, 14,  2, 13,  1, 10,  6, 12, 11,  9,  5, 3,  8, \n",
    "       4,  1, 14, 8, 13,  6,  2, 11, 15, 12,  9,  7,  3, 10, 5,  0, \n",
    "      15, 12,  8, 2,  4,  9,  1,  7,  5, 11,  3, 14, 10,  0, 6, 13)\n",
    "\n",
    "S2 = (15,  1,  8, 14,  6, 11,  3,  4,  9, 7,  2, 13, 12, 0,  5, 10, \n",
    "       3, 13,  4,  7, 15,  2,  8, 14, 12, 0,  1, 10,  6, 9, 11,  5, \n",
    "       0, 14,  7, 11, 10,  4, 13,  1,  5, 8, 12,  6,  9, 3,  2, 15, \n",
    "      13,  8, 10,  1,  3, 15,  4,  2, 11, 6,  7, 12,  0, 5, 14,  9)\n",
    "\n",
    "S3 = (10,  0,  9, 14, 6,  3, 15,  5,  1, 13, 12,  7, 11,  4,  2,  8, \n",
    "      13,  7,  0,  9, 3,  4,  6, 10,  2,  8,  5, 14, 12, 11, 15,  1, \n",
    "      13,  6,  4,  9, 8, 15,  3,  0, 11,  1,  2, 12,  5, 10, 14,  7, \n",
    "       1, 10, 13,  0, 6,  9,  8,  7,  4, 15, 14,  3, 11,  5,  2, 12)\n",
    "\n",
    "S4 = ( 7, 13, 14, 3,  0,  6,  9, 10,  1, 2, 8,  5, 11, 12,  4, 15, \n",
    "      13,  8, 11, 5,  6, 15,  0,  3,  4, 7, 2, 12,  1, 10, 14,  9, \n",
    "      10,  6,  9, 0, 12, 11,  7, 13, 15, 1, 3, 14,  5,  2,  8,  4, \n",
    "       3, 15,  0, 6, 10,  1, 13,  8,  9, 4, 5, 11, 12,  7,  2, 14)\n",
    "\n",
    "S5 = ( 2, 12,  4,  1,  7, 10, 11,  6,  8,  5,  3, 15, 13, 0, 14,  9, \n",
    "      14, 11,  2, 12,  4,  7, 13,  1,  5,  0, 15, 10,  3, 9,  8,  6, \n",
    "       4,  2,  1, 11, 10, 13,  7,  8, 15,  9, 12,  5,  6, 3,  0, 14, \n",
    "      11,  8, 12,  7,  1, 14,  2, 13,  6, 15,  0,  9, 10, 4,  5, 3)\n",
    "\n",
    "S6 = (12,  1, 10, 15, 9,  2,  6,  8,  0, 13,  3,  4, 14,  7,  5, 11, \n",
    "      10, 15,  4,  2, 7, 12,  9,  5,  6,  1, 13, 14,  0, 11,  3,  8, \n",
    "       9, 14, 15,  5, 2,  8, 12,  3,  7,  0,  4, 10,  1, 13, 11,  6, \n",
    "       4,  3,  2, 12, 9,  5, 15, 10, 11, 14,  1,  7,  6,  0,  8, 13)\n",
    "\n",
    "S7 = ( 4, 11,  2, 14, 15, 0,  8, 13,  3, 12, 9,  7,  5, 10, 6,  1, \n",
    "      13,  0, 11,  7,  4, 9,  1, 10, 14,  3, 5, 12,  2, 15, 8,  6, \n",
    "       1,  4, 11, 13, 12, 3,  7, 14, 10, 15, 6,  8,  0,  5, 9,  2, \n",
    "       6, 11, 13,  8,  1, 4, 10,  7,  9,  5, 0, 15, 14,  2, 3, 12)\n",
    "\n",
    "S8 = (13,  2,  8, 4,  6, 15, 11,  1, 10,  9,  3, 14,  5,  0, 12,  7, \n",
    "       1, 15, 13, 8, 10,  3,  7,  4, 12,  5,  6, 11,  0, 14,  9,  2, \n",
    "       7, 11,  4, 1,  9, 12, 14,  2,  0,  6, 10, 13, 15,  3,  5,  8, \n",
    "       2,  1, 14, 7,  4, 10,  8, 13, 15, 12,  9,  0,  3,  5,  6, 11)\n",
    "\n",
    "# A list of all the secret boxes\n",
    "sBoxes = (S1, S2, S3, S4, S5, S6, S7, S8)"
   ]
  },
  {
   "cell_type": "markdown",
   "metadata": {
    "id": "fwffCW6aq3zc"
   },
   "source": [
    "When finding the replacement value in the sbox, the first and last bits are used to determine the row, and the middle four are used to determine the column. Then the value at that location is converted to binary and replaces the 6 bits.\n",
    "\n",
    "For example, if the first chunk were ```001011```, the row would be ```01``` (1) and column ```0101``` (5). On a zero index matrix, this would be the 2nd row and 6th column of the s-box 1, which will result in ```2```. The ```2``` is converted to binary and replaces the ```001011``` -> ```0010```."
   ]
  },
  {
   "cell_type": "code",
   "execution_count": 12,
   "metadata": {
    "colab": {
     "base_uri": "https://localhost:8080/"
    },
    "executionInfo": {
     "elapsed": 21,
     "status": "ok",
     "timestamp": 1630086485880,
     "user": {
      "displayName": "Muhammad Ismail",
      "photoUrl": "",
      "userId": "08030624987779284067"
     },
     "user_tz": 300
    },
    "id": "R9c1esVwxbjz",
    "outputId": "9085ca10-51a6-465f-a281-2091c31595ec"
   },
   "outputs": [
    {
     "name": "stdout",
     "output_type": "stream",
     "text": [
      "S-Box 1\n",
      "-------\n",
      "14 4 13 1 2 15 11 8 3 10 6 12 5 9 0 7 \n",
      "0 15 7 4 14 2 13 1 10 6 12 11 9 5 3 8 \n",
      "4 1 14 8 13 6 2 11 15 12 9 7 3 10 5 0 \n",
      "15 12 8 2 4 9 1 7 5 11 3 14 10 0 6 13 \n",
      "\n",
      "Original Chunk: 001011\n",
      "Row: 01 (1), Column: 0101 (5)\n",
      "Replacement (Decimal): 2\n",
      "After Subsitution: 001011 -> 0010\n"
     ]
    }
   ],
   "source": [
    "# Substitution Example\n",
    "\n",
    "# Prints S Box 1\n",
    "print(\"S-Box 1\\n\"+\"-\"*7)\n",
    "for x in range(4):\n",
    "  for y in range(16):\n",
    "    print(S1[x*16+y], end=\" \")\n",
    "  print()\n",
    "\n",
    "chunk = '001011'\n",
    "# First and Last Bit\n",
    "row = chunk[0]+chunk[-1]\n",
    "# Middle 4 bits\n",
    "column = chunk[1:-1]\n",
    "\n",
    "print(f\"\\nOriginal Chunk: {chunk}\")\n",
    "print(f\"Row: {row} ({int(row,2)}), Column: {column} ({int(column,2)})\")\n",
    "print(f\"Replacement (Decimal): {S1[int(row,2)*16+int(column,2)]}\")\n",
    "print(f\"After Subsitution: {chunk} -> {bin(S1[int(row,2)*16+int(column,2)])[2:].zfill(4)}\")\n"
   ]
  },
  {
   "cell_type": "markdown",
   "metadata": {
    "id": "hCKX-Ck_3yfb"
   },
   "source": [
    "The entire 48-bit block goes through this process, where each chunk uses a different s-box to produce the 32-bit half."
   ]
  },
  {
   "cell_type": "code",
   "execution_count": 13,
   "metadata": {
    "colab": {
     "base_uri": "https://localhost:8080/"
    },
    "executionInfo": {
     "elapsed": 18,
     "status": "ok",
     "timestamp": 1630086485881,
     "user": {
      "displayName": "Muhammad Ismail",
      "photoUrl": "",
      "userId": "08030624987779284067"
     },
     "user_tz": 300
    },
    "id": "-MKS6DEj3-2l",
    "outputId": "fb522b60-9ba2-443c-b261-39ec4a87f56a"
   },
   "outputs": [
    {
     "name": "stdout",
     "output_type": "stream",
     "text": [
      "After XOR w/Key: 111011110001010100011111101101101100111000110110 48 bits\n",
      "After Substitution: 00001011110010010010110000001101 32 bits\n"
     ]
    }
   ],
   "source": [
    "def DataSubstitution(block):\n",
    "  newBlock = ''\n",
    "  for x in range(8):\n",
    "    index = x*6\n",
    "    row = int((block[index]+block[index+5]),2)\n",
    "    col = int((block[index+1:index+5]),2)\n",
    "    newBlock += bin(sBoxes[x][(16*row)+col])[2:].zfill(4)\n",
    "  return newBlock\n",
    "\n",
    "print(f\"After XOR w/Key: {xorTemp} {len(xorTemp)} bits\")\n",
    "subTemp = DataSubstitution(xorTemp)\n",
    "print(f\"After Substitution: {subTemp} {len(subTemp)} bits\")"
   ]
  },
  {
   "cell_type": "markdown",
   "metadata": {
    "id": "ANs73TC-_vs8"
   },
   "source": [
    "## Permutation\n",
    "\n",
    "Before the block is returned, a permutation is performed using the **Data Permutation** to shuffle the 32-bit block."
   ]
  },
  {
   "cell_type": "code",
   "execution_count": 14,
   "metadata": {
    "colab": {
     "base_uri": "https://localhost:8080/"
    },
    "executionInfo": {
     "elapsed": 16,
     "status": "ok",
     "timestamp": 1630086485882,
     "user": {
      "displayName": "Muhammad Ismail",
      "photoUrl": "",
      "userId": "08030624987779284067"
     },
     "user_tz": 300
    },
    "id": "TaA83CRd_zw6",
    "outputId": "2a736c60-ec5a-4232-c682-12f1bdbdeab8"
   },
   "outputs": [
    {
     "name": "stdout",
     "output_type": "stream",
     "text": [
      "After Substitution:\t00001011110010010010110000001101\n",
      "After Permuation:\t11011000000010010100100111101000\n"
     ]
    }
   ],
   "source": [
    "# Order used to Permutate the blocks\n",
    "DataPermutation = (16,  7, 20, 21, 29, 12, 28, 17, \n",
    "                    1, 15, 23, 26,  5, 18, 31, 10, \n",
    "                    2,  8, 24, 14, 32, 27,  3,  9, \n",
    "                   19, 13, 30,  6, 22, 11,  4, 25)\n",
    "\n",
    "print(f\"After Substitution:\\t{subTemp}\")\n",
    "print(f\"After Permuation:\\t{permute(subTemp, DataPermutation)}\")"
   ]
  },
  {
   "cell_type": "markdown",
   "metadata": {
    "id": "iq6VXDYJ5AcK"
   },
   "source": [
    "The full Feistel function:"
   ]
  },
  {
   "cell_type": "code",
   "execution_count": 15,
   "metadata": {
    "executionInfo": {
     "elapsed": 13,
     "status": "ok",
     "timestamp": 1630086485882,
     "user": {
      "displayName": "Muhammad Ismail",
      "photoUrl": "",
      "userId": "08030624987779284067"
     },
     "user_tz": 300
    },
    "id": "YQR5mean4_5C"
   },
   "outputs": [],
   "source": [
    "def Feistel(data:str, key:str):\n",
    "  data = permute(data, DataExpansion)\n",
    "  data = XOR(data, key, 48)\n",
    "  data = DataSubstitution(data)\n",
    "  data = permute(data, DataPermutation)\n",
    "  return data"
   ]
  },
  {
   "cell_type": "markdown",
   "metadata": {
    "id": "Yod8dsln_F4g"
   },
   "source": [
    "# DES Round\n",
    "---\n",
    "The **DES Round** is the process of encrypting/decrypting a 64-bit block of data. It begins by splitting the block 64-bit block into 32-bit halves. Now for 16 rounds, the current right block becomes the new left block, and the new right becomes the XOR of the old left with the **Feistel** result of the old right and the round key.\n",
    "\n",
    "$L_{n} = R_{n-1}$ <br />\n",
    "$R_{n} = L_{n-1}$<span>&#8853;</span> $F({R_{n-1}, K})$\n",
    "\n",
    "Once the two new halves are computed, the left is concatenated with the right and returned. When DES reaches the last round of encryption/decryption, the right is concatenated with the left and returned instead."
   ]
  },
  {
   "cell_type": "code",
   "execution_count": 16,
   "metadata": {
    "executionInfo": {
     "elapsed": 130,
     "status": "ok",
     "timestamp": 1630086485999,
     "user": {
      "displayName": "Muhammad Ismail",
      "photoUrl": "",
      "userId": "08030624987779284067"
     },
     "user_tz": 300
    },
    "id": "abQWHjEBBs49"
   },
   "outputs": [],
   "source": [
    "def DESRound(data:str, subkey:str, index:int):\n",
    "  # Split the current block into 32-bit halves\n",
    "  left = data[0:32]\n",
    "  right = data[32:]\n",
    "\n",
    "  # The new left because the old right\n",
    "  lnew = right\n",
    "\n",
    "  # The new right is the XOR of the old left and the Feistel(old right, subkey)\n",
    "  rnew = XOR(left, Feistel(right, subkey), 32)\n",
    "\n",
    "  # Return for final round\n",
    "  if(index == 15):\n",
    "    return rnew+lnew\n",
    "  # Return for first 15 rounds\n",
    "  return lnew+rnew"
   ]
  },
  {
   "cell_type": "markdown",
   "metadata": {
    "id": "QcQ6kfSb_u7H"
   },
   "source": [
    "# Encryption\n",
    "---\n",
    "\n",
    "Encryption in DES takes the parts that we learned before and puts them all together. Encryption is responsible for generating the subkeys, transforming the plaintext into 64-bit blocks, and encrypting each block.\n",
    "\n",
    "Before the 16 rounds of DES begin, data blocks are permutated with an **Initial Permutation**. After the rounds are completed, and the output is returned, it goes through a **Final Permutation**."
   ]
  },
  {
   "cell_type": "code",
   "execution_count": 17,
   "metadata": {
    "executionInfo": {
     "elapsed": 5,
     "status": "ok",
     "timestamp": 1630086485999,
     "user": {
      "displayName": "Muhammad Ismail",
      "photoUrl": "",
      "userId": "08030624987779284067"
     },
     "user_tz": 300
    },
    "id": "3PAVxWVBKBWY"
   },
   "outputs": [],
   "source": [
    "# Order used for initial shuffle of block before DES Rounds\n",
    "DataInitialPermutation = (58, 50, 42, 34, 26, 18, 10, 2, \n",
    "                          60, 52, 44, 36, 28, 20, 12, 4, \n",
    "                          62, 54, 46, 38, 30, 22, 14, 6, \n",
    "                          64, 56, 48, 40, 32, 24, 16, 8, \n",
    "                          57, 49, 41, 33, 25, 17,  9, 1, \n",
    "                          59, 51, 43, 35, 27, 19, 11, 3, \n",
    "                          61, 53, 45, 37, 29, 21, 13, 5, \n",
    "                          63, 55, 47, 39, 31, 23, 15, 7)\n",
    "\n",
    "# Order used for final shuffle of block after DES Rounds\n",
    "DataFinalPermutation = (40, 8, 48, 16, 56, 24, 64, 32, \n",
    "                        39, 7, 47, 15, 55, 23, 63, 31, \n",
    "                        38, 6, 46, 14, 54, 22, 62, 30, \n",
    "                        37, 5, 45, 13, 53, 21, 61, 29, \n",
    "                        36, 4, 44, 12, 52, 20, 60, 28, \n",
    "                        35, 3, 43, 11, 51, 19, 59, 27, \n",
    "                        34, 2, 42, 10, 50, 18, 58, 26, \n",
    "                        33, 1, 41,  9, 49, 17, 57, 25)"
   ]
  },
  {
   "cell_type": "markdown",
   "metadata": {
    "id": "G0_M-L4N16gS"
   },
   "source": [
    "## Full Encryption Function"
   ]
  },
  {
   "cell_type": "code",
   "execution_count": 18,
   "metadata": {
    "colab": {
     "base_uri": "https://localhost:8080/"
    },
    "executionInfo": {
     "elapsed": 4,
     "status": "ok",
     "timestamp": 1630086485999,
     "user": {
      "displayName": "Muhammad Ismail",
      "photoUrl": "",
      "userId": "08030624987779284067"
     },
     "user_tz": 300
    },
    "id": "nEO36-cFI059",
    "outputId": "e57f496f-c844-4ae1-d606-9ef0e368bc57"
   },
   "outputs": [
    {
     "name": "stdout",
     "output_type": "stream",
     "text": [
      "Encrypted Message (Hex): 6a0e79f552eda95b3de472d82d77c36a1971e077a951e2a98a286c85584dd35bc474ce3f555a42b2\n",
      "Encrypted Message (ASCII): j\u000eyõRí©[=ärØ-wÃj\u0019qàw©Qâ©(l",
      "XMÓ[ÄtÎ?UZB²\n"
     ]
    }
   ],
   "source": [
    "def DESEncryption(plaintext:str, key:str):\n",
    "  # First Generate the subkeys\n",
    "  keys = keyScheduleGeneration(key)\n",
    "\n",
    "  # Transfrom the plaintext into blocks\n",
    "  dataBlocks = create64Blocks(plaintext)\n",
    "  ciphertext = ''\n",
    "\n",
    "  # Begin DES Rounds to encrypt\n",
    "  for block in dataBlocks:\n",
    "\n",
    "    # Initial Permutation\n",
    "    block = permute(block, DataInitialPermutation)\n",
    "\n",
    "    # Begin Rounds\n",
    "    for b in range(16):\n",
    "      block = DESRound(block, keys[b], b)\n",
    "    \n",
    "    # Final Permutation\n",
    "    block = permute(block, DataFinalPermutation)\n",
    "\n",
    "    # Add encrypted block to final ciphertext\n",
    "    ciphertext += block\n",
    "  return ciphertext\n",
    "\n",
    "\n",
    "CIPHERTEXT = DESEncryption(PLAINTEXT, KEY)\n",
    "print(f\"Encrypted Message (Hex): {hex(int(CIPHERTEXT,2))[2:]}\")\n",
    "CIPHERTEXT = bin2ascii(CIPHERTEXT)\n",
    "print(f\"Encrypted Message (ASCII): {CIPHERTEXT}\")"
   ]
  },
  {
   "cell_type": "markdown",
   "metadata": {
    "id": "AhgAVdzS_yGQ"
   },
   "source": [
    "# Decryption\n",
    "---\n",
    "\n",
    "Decryption is the same process as encryption for DES because it is a symmetric encryption algorithm. The only difference is that the keys are used in reverse, and the padding, if any, is removed."
   ]
  },
  {
   "cell_type": "code",
   "execution_count": 19,
   "metadata": {
    "colab": {
     "base_uri": "https://localhost:8080/"
    },
    "executionInfo": {
     "elapsed": 4,
     "status": "ok",
     "timestamp": 1630086486000,
     "user": {
      "displayName": "Muhammad Ismail",
      "photoUrl": "",
      "userId": "08030624987779284067"
     },
     "user_tz": 300
    },
    "id": "KDFaHRoiz65O",
    "outputId": "733db43d-aa70-4823-e2c9-aa190bd490d3"
   },
   "outputs": [
    {
     "name": "stdout",
     "output_type": "stream",
     "text": [
      "Decrypted Message (Hex): 444553206973207374726f6e6720627574206e6f7420636f6d706c696361746564\n",
      "Decrypted Message (ASCII): DES is strong but not complicated\n"
     ]
    }
   ],
   "source": [
    "# Unpadding Function\n",
    "def unpad(ciphertext:str):\n",
    "  padding = 8*[int(ciphertext[i:i+8],2) for i in range(0,len(ciphertext), 8)].count(0)\n",
    "  return ciphertext[:-padding]\n",
    "\n",
    "# DES Decryption\n",
    "def DESDecryption(ciphertext:str, key:str):\n",
    "  # First Generate the subkeys and then reverse them\n",
    "  keys = keyScheduleGeneration(key)\n",
    "  keys.reverse()\n",
    "  \n",
    "  # Transfrom the ciphertext into blocks\n",
    "  dataBlocks = create64Blocks(ciphertext)\n",
    "\n",
    "  ciphertext = ''\n",
    "\n",
    "  # Begin DES Rounds to encrypt\n",
    "  for block in dataBlocks:\n",
    "\n",
    "    # Initial Permutation\n",
    "    block = permute(block, DataInitialPermutation)\n",
    "\n",
    "    # Begin Rounds\n",
    "    for b in range(16):\n",
    "      block = DESRound(block, keys[b], b)\n",
    "    \n",
    "    # Final Permutation\n",
    "    block = permute(block, DataFinalPermutation)\n",
    "\n",
    "    # Add encrypted block to final ciphertext\n",
    "    ciphertext += block\n",
    "\n",
    "  return unpad(ciphertext)\n",
    "\n",
    "plaintext = DESDecryption(CIPHERTEXT, KEY)\n",
    "print(f\"Decrypted Message (Hex): {hex(int(plaintext,2))[2:]}\")\n",
    "plaintext = bin2ascii(plaintext)\n",
    "print(f\"Decrypted Message (ASCII): {plaintext}\")"
   ]
  },
  {
   "cell_type": "markdown",
   "metadata": {
    "id": "Hw1-9XoxKr6k"
   },
   "source": [
    "# Conclusion\n",
    "---\n",
    "You have now learned the inner working parts of the Data Encryption Standard (DES), including the Key Schedule Generation process, the Feistel Function operations, encryption, and decryption."
   ]
  },
  {
   "cell_type": "markdown",
   "metadata": {
    "id": "GaPN5lh13tAv"
   },
   "source": [
    "# Resources\n",
    "1. https://en.wikipedia.org/wiki/Data_Encryption_Standard\n",
    "1. https://www.commonlounge.com/discussion/5c7c2828bf6b4724b806a9013a5a4b99#detailed-description-of-key-scheduling-steps-with-examples\n",
    "1. https://csrc.nist.gov/csrc/media/publications/fips/46/3/archive/1999-10-25/documents/fips46-3.pdf\n",
    "1. https://www.geeksforgeeks.org/data-encryption-standard-des-set-1/\n",
    "1. https://www.tutorialspoint.com/cryptography/data_encryption_standard.htm"
   ]
  }
 ],
 "metadata": {
  "colab": {
   "collapsed_sections": [],
   "name": "DES.ipynb",
   "provenance": []
  },
  "kernelspec": {
   "display_name": "Python 3 (ipykernel)",
   "language": "python",
   "name": "python3"
  },
  "language_info": {
   "codemirror_mode": {
    "name": "ipython",
    "version": 3
   },
   "file_extension": ".py",
   "mimetype": "text/x-python",
   "name": "python",
   "nbconvert_exporter": "python",
   "pygments_lexer": "ipython3",
   "version": "3.12.9"
  }
 },
 "nbformat": 4,
 "nbformat_minor": 4
}
