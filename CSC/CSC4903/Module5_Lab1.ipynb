{
  "cells": [
    {
      "cell_type": "code",
      "execution_count": 1,
      "id": "1b7a6f5d-5080-4295-bf8c-8111887f6c1e",
      "metadata": {
        "colab": {
          "base_uri": "https://localhost:8080/"
        },
        "id": "1b7a6f5d-5080-4295-bf8c-8111887f6c1e",
        "outputId": "35920b32-90e0-4e90-dc3e-204d1ba57890"
      },
      "outputs": [
        {
          "name": "stdout",
          "output_type": "stream",
          "text": [
            "Requirement already satisfied: qiskit in d:\\csc-programs\\csc\\csc4903\\.venv\\lib\\site-packages (1.4.0)\n",
            "Requirement already satisfied: rustworkx>=0.15.0 in d:\\csc-programs\\csc\\csc4903\\.venv\\lib\\site-packages (from qiskit) (0.16.0)\n",
            "Requirement already satisfied: numpy<3,>=1.17 in d:\\csc-programs\\csc\\csc4903\\.venv\\lib\\site-packages (from qiskit) (2.2.3)\n",
            "Requirement already satisfied: scipy>=1.5 in d:\\csc-programs\\csc\\csc4903\\.venv\\lib\\site-packages (from qiskit) (1.15.2)\n",
            "Requirement already satisfied: sympy>=1.3 in d:\\csc-programs\\csc\\csc4903\\.venv\\lib\\site-packages (from qiskit) (1.13.3)\n",
            "Requirement already satisfied: dill>=0.3 in d:\\csc-programs\\csc\\csc4903\\.venv\\lib\\site-packages (from qiskit) (0.3.9)\n",
            "Requirement already satisfied: python-dateutil>=2.8.0 in d:\\csc-programs\\csc\\csc4903\\.venv\\lib\\site-packages (from qiskit) (2.9.0.post0)\n",
            "Requirement already satisfied: stevedore>=3.0.0 in d:\\csc-programs\\csc\\csc4903\\.venv\\lib\\site-packages (from qiskit) (5.4.1)\n",
            "Requirement already satisfied: typing-extensions in d:\\csc-programs\\csc\\csc4903\\.venv\\lib\\site-packages (from qiskit) (4.12.2)\n",
            "Requirement already satisfied: symengine<0.14,>=0.11 in d:\\csc-programs\\csc\\csc4903\\.venv\\lib\\site-packages (from qiskit) (0.13.0)\n",
            "Requirement already satisfied: six>=1.5 in d:\\csc-programs\\csc\\csc4903\\.venv\\lib\\site-packages (from python-dateutil>=2.8.0->qiskit) (1.17.0)\n",
            "Requirement already satisfied: pbr>=2.0.0 in d:\\csc-programs\\csc\\csc4903\\.venv\\lib\\site-packages (from stevedore>=3.0.0->qiskit) (6.1.1)\n",
            "Requirement already satisfied: mpmath<1.4,>=1.1.0 in d:\\csc-programs\\csc\\csc4903\\.venv\\lib\\site-packages (from sympy>=1.3->qiskit) (1.3.0)\n",
            "Requirement already satisfied: setuptools in d:\\csc-programs\\csc\\csc4903\\.venv\\lib\\site-packages (from pbr>=2.0.0->stevedore>=3.0.0->qiskit) (75.8.2)\n",
            "Requirement already satisfied: qiskit-aer in d:\\csc-programs\\csc\\csc4903\\.venv\\lib\\site-packages (0.16.4)\n",
            "Requirement already satisfied: qiskit>=1.1.0 in d:\\csc-programs\\csc\\csc4903\\.venv\\lib\\site-packages (from qiskit-aer) (1.4.0)\n",
            "Requirement already satisfied: numpy>=1.16.3 in d:\\csc-programs\\csc\\csc4903\\.venv\\lib\\site-packages (from qiskit-aer) (2.2.3)\n",
            "Requirement already satisfied: scipy>=1.0 in d:\\csc-programs\\csc\\csc4903\\.venv\\lib\\site-packages (from qiskit-aer) (1.15.2)\n",
            "Requirement already satisfied: psutil>=5 in d:\\csc-programs\\csc\\csc4903\\.venv\\lib\\site-packages (from qiskit-aer) (7.0.0)\n",
            "Requirement already satisfied: rustworkx>=0.15.0 in d:\\csc-programs\\csc\\csc4903\\.venv\\lib\\site-packages (from qiskit>=1.1.0->qiskit-aer) (0.16.0)\n",
            "Requirement already satisfied: sympy>=1.3 in d:\\csc-programs\\csc\\csc4903\\.venv\\lib\\site-packages (from qiskit>=1.1.0->qiskit-aer) (1.13.3)\n",
            "Requirement already satisfied: dill>=0.3 in d:\\csc-programs\\csc\\csc4903\\.venv\\lib\\site-packages (from qiskit>=1.1.0->qiskit-aer) (0.3.9)\n",
            "Requirement already satisfied: python-dateutil>=2.8.0 in d:\\csc-programs\\csc\\csc4903\\.venv\\lib\\site-packages (from qiskit>=1.1.0->qiskit-aer) (2.9.0.post0)\n",
            "Requirement already satisfied: stevedore>=3.0.0 in d:\\csc-programs\\csc\\csc4903\\.venv\\lib\\site-packages (from qiskit>=1.1.0->qiskit-aer) (5.4.1)\n",
            "Requirement already satisfied: typing-extensions in d:\\csc-programs\\csc\\csc4903\\.venv\\lib\\site-packages (from qiskit>=1.1.0->qiskit-aer) (4.12.2)\n",
            "Requirement already satisfied: symengine<0.14,>=0.11 in d:\\csc-programs\\csc\\csc4903\\.venv\\lib\\site-packages (from qiskit>=1.1.0->qiskit-aer) (0.13.0)\n",
            "Requirement already satisfied: six>=1.5 in d:\\csc-programs\\csc\\csc4903\\.venv\\lib\\site-packages (from python-dateutil>=2.8.0->qiskit>=1.1.0->qiskit-aer) (1.17.0)\n",
            "Requirement already satisfied: pbr>=2.0.0 in d:\\csc-programs\\csc\\csc4903\\.venv\\lib\\site-packages (from stevedore>=3.0.0->qiskit>=1.1.0->qiskit-aer) (6.1.1)\n",
            "Requirement already satisfied: mpmath<1.4,>=1.1.0 in d:\\csc-programs\\csc\\csc4903\\.venv\\lib\\site-packages (from sympy>=1.3->qiskit>=1.1.0->qiskit-aer) (1.3.0)\n",
            "Requirement already satisfied: setuptools in d:\\csc-programs\\csc\\csc4903\\.venv\\lib\\site-packages (from pbr>=2.0.0->stevedore>=3.0.0->qiskit>=1.1.0->qiskit-aer) (75.8.2)\n",
            "Requirement already satisfied: pylatexenc in d:\\csc-programs\\csc\\csc4903\\.venv\\lib\\site-packages (2.10)\n"
          ]
        }
      ],
      "source": [
        "!pip install qiskit\n",
        "!pip install qiskit-aer\n",
        "!pip install pylatexenc\n",
        "\n",
        "\n",
        "from qiskit import QuantumCircuit, assemble\n",
        "from math import pi\n",
        "import numpy as np\n",
        "from qiskit.visualization import plot_histogram, plot_bloch_multivector\n",
        "from qiskit_aer import Aer"
      ]
    },
    {
      "cell_type": "code",
      "execution_count": 2,
      "id": "b1ecdec8-fbee-4822-9db4-2d3f40cdd67d",
      "metadata": {
        "colab": {
          "base_uri": "https://localhost:8080/",
          "height": 255
        },
        "id": "b1ecdec8-fbee-4822-9db4-2d3f40cdd67d",
        "outputId": "6117c315-821c-4c41-c1e9-084d9928bee9"
      },
      "outputs": [
        {
          "data": {
            "image/png": "[encoded data removed]",
            "text/plain": [
              "<Figure size 203.885x284.278 with 1 Axes>"
            ]
          },
          "execution_count": 2,
          "metadata": {},
          "output_type": "execute_result"
        }
      ],
      "source": [
        "# Finding state vector of a multi-qubit system\n",
        "qc = QuantumCircuit(3)\n",
        "# Apply H-gate to each qubit:\n",
        "for qubit in range(3):\n",
        "    qc.h(qubit)\n",
        "# See the circuit:\n",
        "qc.draw('mpl')"
      ]
    },
    {
      "cell_type": "code",
      "execution_count": 3,
      "id": "1ad80235-f512-4827-b09a-63f03c5dec3e",
      "metadata": {
        "colab": {
          "base_uri": "https://localhost:8080/"
        },
        "id": "1ad80235-f512-4827-b09a-63f03c5dec3e",
        "outputId": "ebed6887-7293-4e2b-9244-c990c199c097"
      },
      "outputs": [
        {
          "name": "stdout",
          "output_type": "stream",
          "text": [
            "Statevector([0.35355339+0.j, 0.35355339+0.j, 0.35355339+0.j,\n",
            "             0.35355339+0.j, 0.35355339+0.j, 0.35355339+0.j,\n",
            "             0.35355339+0.j, 0.35355339+0.j],\n",
            "            dims=(2, 2, 2))\n"
          ]
        }
      ],
      "source": [
        "# Let's see the result\n",
        "svsim = Aer.get_backend('statevector_simulator')\n",
        "final_state = svsim.run(qc).result().get_statevector()\n",
        "print(final_state)"
      ]
    },
    {
      "cell_type": "code",
      "execution_count": 4,
      "id": "1a9bc6be-d135-44c0-8062-b80f58fadb54",
      "metadata": {
        "colab": {
          "base_uri": "https://localhost:8080/",
          "height": 191
        },
        "id": "1a9bc6be-d135-44c0-8062-b80f58fadb54",
        "outputId": "87b3a6d9-9562-43c0-fe73-06fdb4f28a57"
      },
      "outputs": [
        {
          "data": {
            "image/png": "[encoded data removed]",
            "text/plain": [
              "<Figure size 203.683x200.667 with 1 Axes>"
            ]
          },
          "execution_count": 4,
          "metadata": {},
          "output_type": "execute_result"
        }
      ],
      "source": [
        "# Single qubit-gates on multi-qubit statevector\n",
        "qc = QuantumCircuit(2)\n",
        "qc.h(0)\n",
        "qc.x(1)\n",
        "qc.draw('mpl')"
      ]
    },
    {
      "cell_type": "code",
      "execution_count": 5,
      "id": "1048d157-9b77-4658-9c69-46029b270099",
      "metadata": {
        "colab": {
          "base_uri": "https://localhost:8080/"
        },
        "id": "1048d157-9b77-4658-9c69-46029b270099",
        "outputId": "37013e91-763e-4616-ed97-c014c8b7c738"
      },
      "outputs": [
        {
          "name": "stdout",
          "output_type": "stream",
          "text": [
            "Operator([[ 0.        +0.00000000e+00j,  0.        +0.00000000e+00j,\n",
            "            0.70710678+0.00000000e+00j,  0.70710678-8.65956056e-17j],\n",
            "          [ 0.        +0.00000000e+00j,  0.        +0.00000000e+00j,\n",
            "            0.70710678+0.00000000e+00j, -0.70710678+8.65956056e-17j],\n",
            "          [ 0.70710678+0.00000000e+00j,  0.70710678-8.65956056e-17j,\n",
            "            0.        +0.00000000e+00j,  0.        +0.00000000e+00j],\n",
            "          [ 0.70710678+0.00000000e+00j, -0.70710678+8.65956056e-17j,\n",
            "            0.        +0.00000000e+00j,  0.        +0.00000000e+00j]],\n",
            "         input_dims=(2, 2), output_dims=(2, 2))\n"
          ]
        }
      ],
      "source": [
        "# let's use the unitary simulator\n",
        "usim = Aer.get_backend('unitary_simulator')\n",
        "unitary = usim.run(qc).result().get_unitary()\n",
        "print(unitary)"
      ]
    },
    {
      "cell_type": "code",
      "execution_count": 6,
      "id": "c4d2b083-2ff1-4a0d-bdec-a86d02f318f0",
      "metadata": {
        "colab": {
          "base_uri": "https://localhost:8080/",
          "height": 191
        },
        "id": "c4d2b083-2ff1-4a0d-bdec-a86d02f318f0",
        "outputId": "cc5b31c7-adb3-439b-8eb9-5bda9ee3b939"
      },
      "outputs": [
        {
          "data": {
            "image/png": "[encoded data removed]",
            "text/plain": [
              "<Figure size 203.683x200.667 with 1 Axes>"
            ]
          },
          "execution_count": 6,
          "metadata": {},
          "output_type": "execute_result"
        }
      ],
      "source": [
        "# Apply a single-qubit gate on a single qubit in a multi-qubit system\n",
        "qc = QuantumCircuit(2)\n",
        "qc.x(1)\n",
        "qc.draw('mpl')"
      ]
    },
    {
      "cell_type": "code",
      "execution_count": 7,
      "id": "2cc788d1-a16e-49e7-a416-10260808cbce",
      "metadata": {
        "colab": {
          "base_uri": "https://localhost:8080/"
        },
        "id": "2cc788d1-a16e-49e7-a416-10260808cbce",
        "outputId": "c305f217-8889-4d04-c32c-b849ef621ba0"
      },
      "outputs": [
        {
          "name": "stdout",
          "output_type": "stream",
          "text": [
            "Operator([[0.+0.j, 0.+0.j, 1.+0.j, 0.+0.j],\n",
            "          [0.+0.j, 0.+0.j, 0.+0.j, 1.+0.j],\n",
            "          [1.+0.j, 0.+0.j, 0.+0.j, 0.+0.j],\n",
            "          [0.+0.j, 1.+0.j, 0.+0.j, 0.+0.j]],\n",
            "         input_dims=(2, 2), output_dims=(2, 2))\n"
          ]
        }
      ],
      "source": [
        "# Simulate the unitary\n",
        "usim = Aer.get_backend('unitary_simulator')\n",
        "unitary = usim.run(qc).result().get_unitary()\n",
        "# Display the results:\n",
        "print(unitary)"
      ]
    },
    {
      "cell_type": "code",
      "execution_count": 8,
      "id": "cf210ce5-c493-4d80-b4c9-b22612156974",
      "metadata": {
        "colab": {
          "base_uri": "https://localhost:8080/",
          "height": 191
        },
        "id": "cf210ce5-c493-4d80-b4c9-b22612156974",
        "outputId": "48e65803-06cf-4143-f3aa-d945a47aea48"
      },
      "outputs": [
        {
          "data": {
            "image/png": "[encoded data removed]",
            "text/plain": [
              "<Figure size 203.683x200.667 with 1 Axes>"
            ]
          },
          "execution_count": 8,
          "metadata": {},
          "output_type": "execute_result"
        }
      ],
      "source": [
        "# Example of CNOT gate\n",
        "qc = QuantumCircuit(2)\n",
        "# Apply CNOT\n",
        "qc.cx(0,1)\n",
        "# See the circuit:\n",
        "qc.draw('mpl')"
      ]
    },
    {
      "cell_type": "code",
      "execution_count": 9,
      "id": "7870603d-468c-42b1-b5f4-4cda4db9cf0a",
      "metadata": {
        "colab": {
          "base_uri": "https://localhost:8080/",
          "height": 191
        },
        "id": "7870603d-468c-42b1-b5f4-4cda4db9cf0a",
        "outputId": "37bb7f51-35ff-48b3-c4ad-fee0b0aefc55"
      },
      "outputs": [
        {
          "data": {
            "image/png": "[encoded data removed]",
            "text/plain": [
              "<Figure size 203.683x200.667 with 1 Axes>"
            ]
          },
          "execution_count": 9,
          "metadata": {},
          "output_type": "execute_result"
        }
      ],
      "source": [
        "# Change control qubit\n",
        "qc = QuantumCircuit(2)\n",
        "# Apply CNOT\n",
        "qc.cx(1,0)\n",
        "# See the circuit:\n",
        "qc.draw('mpl')"
      ]
    },
    {
      "cell_type": "code",
      "execution_count": 10,
      "id": "84d41418-1c03-48ca-80ac-cbdd02d2366f",
      "metadata": {
        "colab": {
          "base_uri": "https://localhost:8080/",
          "height": 191
        },
        "id": "84d41418-1c03-48ca-80ac-cbdd02d2366f",
        "outputId": "c9c1a491-0fb5-46e8-c4f8-f44c6ec366cb"
      },
      "outputs": [
        {
          "data": {
            "image/png": "[encoded data removed]",
            "text/plain": [
              "<Figure size 203.683x200.667 with 1 Axes>"
            ]
          },
          "execution_count": 10,
          "metadata": {},
          "output_type": "execute_result"
        }
      ],
      "source": [
        "# Controlled Z - Example 1\n",
        "qc = QuantumCircuit(2)\n",
        "qc.cz(1,0)\n",
        "qc.draw('mpl')"
      ]
    },
    {
      "cell_type": "code",
      "execution_count": 11,
      "id": "b08a251e-715f-426c-8b77-babf5c3170f8",
      "metadata": {
        "colab": {
          "base_uri": "https://localhost:8080/",
          "height": 191
        },
        "id": "b08a251e-715f-426c-8b77-babf5c3170f8",
        "outputId": "31f17a2f-75a3-45b3-90f9-e36970f4b50a"
      },
      "outputs": [
        {
          "data": {
            "image/png": "[encoded data removed]",
            "text/plain": [
              "<Figure size 203.683x200.667 with 1 Axes>"
            ]
          },
          "execution_count": 11,
          "metadata": {},
          "output_type": "execute_result"
        }
      ],
      "source": [
        "# Controlled Z - Example 2\n",
        "qc = QuantumCircuit(2)\n",
        "qc.cz(0,1)\n",
        "qc.draw('mpl')"
      ]
    },
    {
      "cell_type": "code",
      "execution_count": 12,
      "id": "c62c21cd-6612-4cc1-a7a5-89dbb538151f",
      "metadata": {
        "colab": {
          "base_uri": "https://localhost:8080/",
          "height": 191
        },
        "id": "c62c21cd-6612-4cc1-a7a5-89dbb538151f",
        "outputId": "2cfa1117-ca04-4eb6-be01-bcf9f0bcba07"
      },
      "outputs": [
        {
          "data": {
            "image/png": "[encoded data removed]",
            "text/plain": [
              "<Figure size 370.906x200.667 with 1 Axes>"
            ]
          },
          "execution_count": 12,
          "metadata": {},
          "output_type": "execute_result"
        }
      ],
      "source": [
        "# Getting CZ from CX\n",
        "qc = QuantumCircuit(2)\n",
        "qc.h(1)\n",
        "qc.cx(0,1)\n",
        "qc.h(1)\n",
        "qc.draw('mpl')"
      ]
    },
    {
      "cell_type": "code",
      "execution_count": 13,
      "id": "7b733420-105b-4136-89f6-5a099c99e897",
      "metadata": {
        "colab": {
          "base_uri": "https://localhost:8080/",
          "height": 191
        },
        "id": "7b733420-105b-4136-89f6-5a099c99e897",
        "outputId": "3dcd33e2-20ac-4c14-c259-d193d7a72702"
      },
      "outputs": [
        {
          "data": {
            "image/png": "[encoded data removed]",
            "text/plain": [
              "<Figure size 370.906x200.667 with 1 Axes>"
            ]
          },
          "execution_count": 13,
          "metadata": {},
          "output_type": "execute_result"
        }
      ],
      "source": [
        "# Also, we can have\n",
        "qc = QuantumCircuit(2)\n",
        "qc.h(0)\n",
        "qc.cx(1,0)\n",
        "qc.h(0)\n",
        "qc.draw('mpl')"
      ]
    },
    {
      "cell_type": "code",
      "execution_count": 14,
      "id": "20e1ed65-5dc2-4673-9912-6d3d4d4efc82",
      "metadata": {
        "colab": {
          "base_uri": "https://localhost:8080/",
          "height": 191
        },
        "id": "20e1ed65-5dc2-4673-9912-6d3d4d4efc82",
        "outputId": "126d9cf9-ae56-4565-dbd2-6722360c5427"
      },
      "outputs": [
        {
          "data": {
            "image/png": "[encoded data removed]",
            "text/plain": [
              "<Figure size 203.683x200.667 with 1 Axes>"
            ]
          },
          "execution_count": 14,
          "metadata": {},
          "output_type": "execute_result"
        }
      ],
      "source": [
        "# Controlled H - Example 1\n",
        "qc = QuantumCircuit(2)\n",
        "qc.ch(0,1)\n",
        "qc.draw('mpl')"
      ]
    },
    {
      "cell_type": "code",
      "execution_count": 15,
      "id": "4503a981-1729-4e94-87e2-840c9b3ea6a8",
      "metadata": {
        "colab": {
          "base_uri": "https://localhost:8080/",
          "height": 191
        },
        "id": "4503a981-1729-4e94-87e2-840c9b3ea6a8",
        "outputId": "1fa05137-fe36-47c3-d31c-1a0e4036f5f4"
      },
      "outputs": [
        {
          "data": {
            "image/png": "[encoded data removed]",
            "text/plain": [
              "<Figure size 203.683x200.667 with 1 Axes>"
            ]
          },
          "execution_count": 15,
          "metadata": {},
          "output_type": "execute_result"
        }
      ],
      "source": [
        "# Controlled H - Example 2\n",
        "qc = QuantumCircuit(2)\n",
        "qc.ch(1,0)\n",
        "qc.draw('mpl')"
      ]
    },
    {
      "cell_type": "code",
      "execution_count": 16,
      "id": "04e28023-3e91-4e46-b745-16cb5c6ac3e8",
      "metadata": {
        "colab": {
          "base_uri": "https://localhost:8080/",
          "height": 191
        },
        "id": "04e28023-3e91-4e46-b745-16cb5c6ac3e8",
        "outputId": "1d94d7a0-ca15-49a1-9dce-368a8ef3e4d3"
      },
      "outputs": [
        {
          "data": {
            "image/png": "[encoded data removed]",
            "text/plain": [
              "<Figure size 370.906x200.667 with 1 Axes>"
            ]
          },
          "execution_count": 16,
          "metadata": {},
          "output_type": "execute_result"
        }
      ],
      "source": [
        "# Getting C-H using C-X\n",
        "qc = QuantumCircuit(2)\n",
        "# a controlled-H: prove it!\n",
        "qc.ry(pi/4,1)\n",
        "qc.cx(0,1)\n",
        "qc.ry(-pi/4,1)\n",
        "qc.draw('mpl')"
      ]
    },
    {
      "cell_type": "code",
      "execution_count": 17,
      "id": "7b7deb3a-f710-4dc2-899a-e0f1d0c44bcb",
      "metadata": {
        "colab": {
          "base_uri": "https://localhost:8080/",
          "height": 191
        },
        "id": "7b7deb3a-f710-4dc2-899a-e0f1d0c44bcb",
        "outputId": "badd38cd-736c-49ee-a099-cbf11ea1fe79"
      },
      "outputs": [
        {
          "data": {
            "image/png": "[encoded data removed]",
            "text/plain": [
              "<Figure size 203.683x200.667 with 1 Axes>"
            ]
          },
          "execution_count": 17,
          "metadata": {},
          "output_type": "execute_result"
        }
      ],
      "source": [
        "# Swap gate\n",
        "qc = QuantumCircuit(2)\n",
        "# swaps states of qubits a and b\n",
        "qc.swap(0,1)\n",
        "qc.draw('mpl')"
      ]
    },
    {
      "cell_type": "code",
      "execution_count": 18,
      "id": "cc12be2d-8d90-4fdd-9799-058c61df8989",
      "metadata": {
        "colab": {
          "base_uri": "https://localhost:8080/",
          "height": 191
        },
        "id": "cc12be2d-8d90-4fdd-9799-058c61df8989",
        "outputId": "7b1de9b3-3dd0-45ae-848f-18cdd554a62d"
      },
      "outputs": [
        {
          "data": {
            "image/png": "[encoded data removed]",
            "text/plain": [
              "<Figure size 370.906x200.667 with 1 Axes>"
            ]
          },
          "execution_count": 18,
          "metadata": {},
          "output_type": "execute_result"
        }
      ],
      "source": [
        "# Implementing SWAP using CNOT - Example 1\n",
        "qc = QuantumCircuit(2)\n",
        "# swaps states of qubits a and b\n",
        "qc.cx(1,0)\n",
        "qc.cx(0,1)\n",
        "qc.cx(1,0)\n",
        "qc.draw('mpl')"
      ]
    },
    {
      "cell_type": "code",
      "execution_count": 19,
      "id": "f679e63f-67f3-4057-ab7e-7a214f2ff67b",
      "metadata": {
        "colab": {
          "base_uri": "https://localhost:8080/",
          "height": 191
        },
        "id": "f679e63f-67f3-4057-ab7e-7a214f2ff67b",
        "outputId": "19d81258-d86a-4695-c109-a4ec17e1a880"
      },
      "outputs": [
        {
          "data": {
            "image/png": "[encoded data removed]",
            "text/plain": [
              "<Figure size 370.906x200.667 with 1 Axes>"
            ]
          },
          "execution_count": 19,
          "metadata": {},
          "output_type": "execute_result"
        }
      ],
      "source": [
        "# Implementing SWAP using CNOT - Example 2\n",
        "qc = QuantumCircuit(2)\n",
        "# swaps states of qubits a and b\n",
        "qc.cx(0,1)\n",
        "qc.cx(1,0)\n",
        "qc.cx(0,1)\n",
        "qc.draw('mpl')"
      ]
    },
    {
      "cell_type": "code",
      "execution_count": 20,
      "id": "939eb291-96b4-401c-a4a7-d01ef72b9ad6",
      "metadata": {
        "colab": {
          "base_uri": "https://localhost:8080/",
          "height": 255
        },
        "id": "939eb291-96b4-401c-a4a7-d01ef72b9ad6",
        "outputId": "468fbe56-64e6-45cf-c6d5-77af3b120166"
      },
      "outputs": [
        {
          "data": {
            "image/png": "[encoded data removed]",
            "text/plain": [
              "<Figure size 203.885x284.278 with 1 Axes>"
            ]
          },
          "execution_count": 20,
          "metadata": {},
          "output_type": "execute_result"
        }
      ],
      "source": [
        "# Toffoli gate\n",
        "qc = QuantumCircuit(3)\n",
        "a = 0\n",
        "b = 1\n",
        "t = 2\n",
        "# Toffoli with control qubits a and b and target t\n",
        "qc.ccx(a,b,t)\n",
        "qc.draw('mpl')"
      ]
    }
  ],
  "metadata": {
    "colab": {
      "provenance": []
    },
    "kernelspec": {
      "display_name": ".venv",
      "language": "python",
      "name": "python3"
    },
    "language_info": {
      "codemirror_mode": {
        "name": "ipython",
        "version": 3
      },
      "file_extension": ".py",
      "mimetype": "text/x-python",
      "name": "python",
      "nbconvert_exporter": "python",
      "pygments_lexer": "ipython3",
      "version": "3.12.9"
    }
  },
  "nbformat": 4,
  "nbformat_minor": 5
}
